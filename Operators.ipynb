{
  "nbformat": 4,
  "nbformat_minor": 0,
  "metadata": {
    "colab": {
      "provenance": [],
      "authorship_tag": "ABX9TyPfh+nCnaWW/yRpY9uOZr11",
      "include_colab_link": true
    },
    "kernelspec": {
      "name": "python3",
      "display_name": "Python 3"
    },
    "language_info": {
      "name": "python"
    }
  },
  "cells": [
    {
      "cell_type": "markdown",
      "metadata": {
        "id": "view-in-github",
        "colab_type": "text"
      },
      "source": [
        "<a href=\"https://colab.research.google.com/github/Kumarashu97/pythonPW/blob/main/Operators.ipynb\" target=\"_parent\"><img src=\"https://colab.research.google.com/assets/colab-badge.svg\" alt=\"Open In Colab\"/></a>"
      ]
    },
    {
      "cell_type": "code",
      "execution_count": 3,
      "metadata": {
        "colab": {
          "base_uri": "https://localhost:8080/"
        },
        "id": "ApxvSqt4Pd13",
        "outputId": "a2bd5300-62cd-4672-ec64-feaf87d253e5"
      },
      "outputs": [
        {
          "output_type": "stream",
          "name": "stdout",
          "text": [
            "13\n",
            "7\n",
            "30\n",
            "3.3333333333333335\n",
            "3\n",
            "1\n",
            "1000\n"
          ]
        }
      ],
      "source": [
        "##Arithmetic Operators:\n",
        "a = 10\n",
        "b = 3\n",
        "\n",
        "result = a+b\n",
        "print(result)\n",
        "\n",
        "result = a-b\n",
        "print(result)\n",
        "\n",
        "result = a*b\n",
        "print(result)\n",
        "\n",
        "result = a/b\n",
        "print(result)\n",
        "\n",
        "floor_div = a//b\n",
        "print(floor_div)\n",
        "\n",
        "result = a%b\n",
        "print(result)\n",
        "\n",
        "result = a**b\n",
        "print(result)"
      ]
    },
    {
      "cell_type": "code",
      "source": [
        "##comparison operator:\n",
        "a = 10\n",
        "b = 3\n",
        "\n",
        "result = a==b\n",
        "print(result)\n",
        "\n",
        "result = a!=b\n",
        "print(result)\n",
        "\n",
        "result = a>b\n",
        "print(result)\n",
        "\n",
        "result = a<b\n",
        "print(result)\n",
        "\n",
        "str1 = \"hello\"\n",
        "str2 = \"world\"\n",
        "\n",
        "result = str1==str2\n",
        "print(result)\n",
        "\n",
        "result = str1!=str2\n",
        "print(result)\n",
        "\n",
        "result = str1>str2\n",
        "print(result)\n",
        "\n",
        "result = str1<str2\n",
        "print(result)"
      ],
      "metadata": {
        "colab": {
          "base_uri": "https://localhost:8080/"
        },
        "id": "oBuYYdpDQqHL",
        "outputId": "29ca0a52-bf3d-4f5f-a3de-0bf54e75ba33"
      },
      "execution_count": 5,
      "outputs": [
        {
          "output_type": "stream",
          "name": "stdout",
          "text": [
            "False\n",
            "True\n",
            "True\n",
            "False\n",
            "False\n",
            "True\n",
            "False\n",
            "True\n"
          ]
        }
      ]
    },
    {
      "cell_type": "code",
      "source": [
        "##logical operator:\n",
        "a = True\n",
        "b = False\n",
        "\n",
        "result = a and b\n",
        "print(result)\n",
        "\n",
        "result = a or b\n",
        "print(result)\n",
        "\n",
        "result = not a\n",
        "print(result)"
      ],
      "metadata": {
        "colab": {
          "base_uri": "https://localhost:8080/"
        },
        "id": "cXbFWRebRkUw",
        "outputId": "906baeaa-4376-4d75-b58b-b1cd56357286"
      },
      "execution_count": 6,
      "outputs": [
        {
          "output_type": "stream",
          "name": "stdout",
          "text": [
            "False\n",
            "True\n",
            "False\n"
          ]
        }
      ]
    },
    {
      "cell_type": "code",
      "source": [],
      "metadata": {
        "id": "m8SpdmoPT4ui"
      },
      "execution_count": null,
      "outputs": []
    }
  ]
}