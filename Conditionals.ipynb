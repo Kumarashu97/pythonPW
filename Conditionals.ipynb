{
  "nbformat": 4,
  "nbformat_minor": 0,
  "metadata": {
    "colab": {
      "provenance": [],
      "authorship_tag": "ABX9TyNXjQTWuGanCC3HHcMJXfQ0",
      "include_colab_link": true
    },
    "kernelspec": {
      "name": "python3",
      "display_name": "Python 3"
    },
    "language_info": {
      "name": "python"
    }
  },
  "cells": [
    {
      "cell_type": "markdown",
      "metadata": {
        "id": "view-in-github",
        "colab_type": "text"
      },
      "source": [
        "<a href=\"https://colab.research.google.com/github/Kumarashu97/pythonPW/blob/main/Conditionals.ipynb\" target=\"_parent\"><img src=\"https://colab.research.google.com/assets/colab-badge.svg\" alt=\"Open In Colab\"/></a>"
      ]
    },
    {
      "cell_type": "code",
      "execution_count": 1,
      "metadata": {
        "colab": {
          "base_uri": "https://localhost:8080/"
        },
        "id": "dnrTeFYzRTo0",
        "outputId": "75befe8b-1c1d-488c-d42d-b030375df6d6"
      },
      "outputs": [
        {
          "output_type": "stream",
          "name": "stdout",
          "text": [
            "enter the age: 18\n",
            "you are eligible for vote\n"
          ]
        }
      ],
      "source": [
        "age = int(input(\"enter the age: \"))\n",
        "\n",
        "if age>=18:\n",
        "  print(\"you are eligible for vote\")\n",
        "\n",
        "else:\n",
        "  print(\"not eligible for vote\")"
      ]
    },
    {
      "cell_type": "code",
      "source": [
        "age = int(input(\"enter the age: \"))\n",
        "\n",
        "if age<13:\n",
        "  print(\"child\")\n",
        "elif age<18:\n",
        "  print(\"teen\")\n",
        "else:\n",
        "  print(\"adult\")"
      ],
      "metadata": {
        "colab": {
          "base_uri": "https://localhost:8080/"
        },
        "id": "nGpmzwFYRoU0",
        "outputId": "db967ef6-37aa-4a8d-85ef-4db644087f9c"
      },
      "execution_count": 2,
      "outputs": [
        {
          "output_type": "stream",
          "name": "stdout",
          "text": [
            "enter the age: 15\n",
            "teen\n"
          ]
        }
      ]
    },
    {
      "cell_type": "markdown",
      "source": [
        "nested if-else"
      ],
      "metadata": {
        "id": "9i2Jt4JmSHBE"
      }
    },
    {
      "cell_type": "code",
      "source": [
        "num = int(input(\"enter the number: \"))\n",
        "\n",
        "if num>=0:\n",
        "  if num==0:\n",
        "    print(\"zero\")\n",
        "  else:\n",
        "    print(\"positive number\")\n",
        "else:\n",
        "  print(\"negative number\")"
      ],
      "metadata": {
        "colab": {
          "base_uri": "https://localhost:8080/"
        },
        "id": "wvVEWJp7SDu7",
        "outputId": "1deb6ba2-a236-49f8-cbf7-36e01972a7d0"
      },
      "execution_count": 3,
      "outputs": [
        {
          "output_type": "stream",
          "name": "stdout",
          "text": [
            "enter the number: 2\n",
            "positive number\n"
          ]
        }
      ]
    },
    {
      "cell_type": "code",
      "source": [
        "year = int(input(\"enter the year: \"))\n",
        "\n",
        "if year%4==0:\n",
        "  if year%100==0:\n",
        "    if year%400==0:\n",
        "      print(\"leap year\")\n",
        "    else:\n",
        "      print(\"not a leap year\")\n",
        "  else:\n",
        "    print(\"leap year\")\n",
        "else:\n",
        "  print(\"not a leap year\")"
      ],
      "metadata": {
        "colab": {
          "base_uri": "https://localhost:8080/"
        },
        "id": "Oy4bD9bTSSQR",
        "outputId": "59924fa9-e398-4e6e-a022-372e8e994839"
      },
      "execution_count": 4,
      "outputs": [
        {
          "output_type": "stream",
          "name": "stdout",
          "text": [
            "enter the year: 2024\n",
            "leap year\n"
          ]
        }
      ]
    },
    {
      "cell_type": "code",
      "source": [
        "age =int(input(\"enter the age: \"))\n",
        "is_student = True\n",
        "\n",
        "if age<=5:\n",
        "  print(\"free\")\n",
        "elif age<=12:\n",
        "  if is_student:\n",
        "    print(\"ticket price $5\")\n",
        "  else:\n",
        "    print(\"ticket price $10\")\n",
        "else:\n",
        "  print(\"ticket price $15\")"
      ],
      "metadata": {
        "colab": {
          "base_uri": "https://localhost:8080/"
        },
        "id": "pDjcsv3XTTeW",
        "outputId": "881fe3fc-227b-4918-f747-b54635024017"
      },
      "execution_count": 5,
      "outputs": [
        {
          "output_type": "stream",
          "name": "stdout",
          "text": [
            "enter the age: 12\n",
            "ticket price $5\n"
          ]
        }
      ]
    },
    {
      "cell_type": "code",
      "source": [
        "from ast import operator\n",
        "num1 = int(input(\"enter the first number: \"))\n",
        "num2 = int(input(\"enter the second number: \"))\n",
        "operator = input(\"enter the operator +,-,*,/: \")\n",
        "\n",
        "if operator==\"+\":\n",
        "  print(num1+num2)\n",
        "elif operator==\"-\":\n",
        "  print(num1-num2)\n",
        "elif operator==\"*\":\n",
        "  print(num1*num2)\n",
        "elif operator==\"/\":\n",
        "  if num2==0:\n",
        "    print(\"cannot divide by zero\")\n",
        "  else:\n",
        "    print(num1/num2)\n",
        "else:\n",
        "  print(\"invalid operator\")"
      ],
      "metadata": {
        "colab": {
          "base_uri": "https://localhost:8080/"
        },
        "id": "WtFGqGhVU23z",
        "outputId": "1a5aa7d7-74a4-4a83-8bde-30fc469ef442"
      },
      "execution_count": 6,
      "outputs": [
        {
          "output_type": "stream",
          "name": "stdout",
          "text": [
            "enter the first number: 12\n",
            "enter the second number: 5\n",
            "enter the operator +,-,*,/: *\n",
            "60\n"
          ]
        }
      ]
    },
    {
      "cell_type": "code",
      "source": [],
      "metadata": {
        "id": "7pYUGVAVVbYv"
      },
      "execution_count": null,
      "outputs": []
    }
  ]
}