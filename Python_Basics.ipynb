{
  "nbformat": 4,
  "nbformat_minor": 0,
  "metadata": {
    "colab": {
      "provenance": [],
      "authorship_tag": "ABX9TyN6axbZhifr9lfd8+IyXDrH",
      "include_colab_link": true
    },
    "kernelspec": {
      "name": "python3",
      "display_name": "Python 3"
    },
    "language_info": {
      "name": "python"
    }
  },
  "cells": [
    {
      "cell_type": "markdown",
      "metadata": {
        "id": "view-in-github",
        "colab_type": "text"
      },
      "source": [
        "<a href=\"https://colab.research.google.com/github/Kumarashu97/pythonPW/blob/main/Python_Basics.ipynb\" target=\"_parent\"><img src=\"https://colab.research.google.com/assets/colab-badge.svg\" alt=\"Open In Colab\"/></a>"
      ]
    },
    {
      "cell_type": "markdown",
      "source": [
        "Syntax refers to set of rules that defines the combinations of symbols that are considered to be correctly structured programs in a language\n",
        "\n",
        "Semantic refers to the meaning of interepretion of symbols and commands in a language"
      ],
      "metadata": {
        "id": "DdCCkKLSUUyY"
      }
    },
    {
      "cell_type": "code",
      "execution_count": 1,
      "metadata": {
        "colab": {
          "base_uri": "https://localhost:8080/",
          "height": 36
        },
        "id": "qsExzGkaUKQw",
        "outputId": "8fa5de6c-01d6-418d-ba21-ccd2046a93f5"
      },
      "outputs": [
        {
          "output_type": "execute_result",
          "data": {
            "text/plain": [
              "'\\nmulti\\nline \\ncomments\\n'"
            ],
            "application/vnd.google.colaboratory.intrinsic+json": {
              "type": "string"
            }
          },
          "metadata": {},
          "execution_count": 1
        }
      ],
      "source": [
        "## single line comment\n",
        "\n",
        "'''\n",
        "multi\n",
        "line\n",
        "comments\n",
        "'''"
      ]
    },
    {
      "cell_type": "code",
      "source": [
        "name = \"Krish\"\n",
        "Name = \"Navin\"\n",
        "\n",
        "print(name)\n",
        "print(Name)"
      ],
      "metadata": {
        "colab": {
          "base_uri": "https://localhost:8080/"
        },
        "id": "5CJJ92u2VW2i",
        "outputId": "03be8794-7e29-4a82-d730-fc5c2226a076"
      },
      "execution_count": 2,
      "outputs": [
        {
          "output_type": "stream",
          "name": "stdout",
          "text": [
            "Krish\n",
            "Navin\n"
          ]
        }
      ]
    },
    {
      "cell_type": "code",
      "source": [
        "##indentation :\n",
        "if 5 > 2:\n",
        "    print(\"Five is greater than two\")\n",
        "else:\n",
        "    print(\"Five is less than two\")\n",
        "\n",
        "print(\"outside if else block\")"
      ],
      "metadata": {
        "colab": {
          "base_uri": "https://localhost:8080/"
        },
        "id": "Ibpv-6whVr11",
        "outputId": "afa666a7-d33f-4cd8-d25a-e45db34b7a91"
      },
      "execution_count": 4,
      "outputs": [
        {
          "output_type": "stream",
          "name": "stdout",
          "text": [
            "Five is greater than two\n",
            "outside if else block\n"
          ]
        }
      ]
    },
    {
      "cell_type": "code",
      "source": [
        "## line continuation:\n",
        "total = 1+2+3+4+5+\\\n",
        "         6+7+8+9+10\n",
        "print(total)"
      ],
      "metadata": {
        "colab": {
          "base_uri": "https://localhost:8080/"
        },
        "id": "tCL26_LyWi8x",
        "outputId": "d25e4e1a-c174-402d-b727-3d0fcf3bbb84"
      },
      "execution_count": 5,
      "outputs": [
        {
          "output_type": "stream",
          "name": "stdout",
          "text": [
            "55\n"
          ]
        }
      ]
    },
    {
      "cell_type": "code",
      "source": [
        "## multiple statements on a single line\n",
        "x =5;y=10;z=x+y\n",
        "print(z)"
      ],
      "metadata": {
        "colab": {
          "base_uri": "https://localhost:8080/"
        },
        "id": "Afb6LBhjXD9q",
        "outputId": "81e05f24-0b2c-4db6-e948-1c1e7830a5f9"
      },
      "execution_count": 7,
      "outputs": [
        {
          "output_type": "stream",
          "name": "stdout",
          "text": [
            "15\n"
          ]
        }
      ]
    },
    {
      "cell_type": "code",
      "source": [
        "##dynamically typed\n",
        "a = 19\n",
        "name = \"krish\"\n",
        "height = 175.5\n",
        "print(a)\n",
        "print(name)\n",
        "print(height)\n",
        "\n",
        "print(type(a))\n",
        "print(type(name))\n",
        "print(type(height))"
      ],
      "metadata": {
        "colab": {
          "base_uri": "https://localhost:8080/"
        },
        "id": "a14_IkW1Xbff",
        "outputId": "d670ecc4-a611-4e96-f90d-93b2d6282bab"
      },
      "execution_count": 8,
      "outputs": [
        {
          "output_type": "stream",
          "name": "stdout",
          "text": [
            "19\n",
            "krish\n",
            "175.5\n",
            "<class 'int'>\n",
            "<class 'str'>\n",
            "<class 'float'>\n"
          ]
        }
      ]
    },
    {
      "cell_type": "code",
      "source": [
        "age = 32\n",
        "if age < 18:\n",
        "    print(\"minor\")\n",
        "else:\n",
        "    print(\"major\")"
      ],
      "metadata": {
        "colab": {
          "base_uri": "https://localhost:8080/"
        },
        "id": "E1OvlRakXsIN",
        "outputId": "3a58c35e-83f7-4c57-a22f-a7ffb6e5fd3b"
      },
      "execution_count": 9,
      "outputs": [
        {
          "output_type": "stream",
          "name": "stdout",
          "text": [
            "major\n"
          ]
        }
      ]
    },
    {
      "cell_type": "code",
      "source": [
        "if True:\n",
        "    print(\"hello\")\n",
        "    if False:\n",
        "        print(\"world\")\n",
        "    print(\"this will always print\")\n",
        "print(\"this will always print\")"
      ],
      "metadata": {
        "colab": {
          "base_uri": "https://localhost:8080/"
        },
        "id": "DCWoY3qtYdu-",
        "outputId": "e3549c62-d018-4684-a404-b0da9b15517f"
      },
      "execution_count": 10,
      "outputs": [
        {
          "output_type": "stream",
          "name": "stdout",
          "text": [
            "hello\n",
            "this will always print\n",
            "this will always print\n"
          ]
        }
      ]
    },
    {
      "cell_type": "code",
      "source": [],
      "metadata": {
        "id": "wJxnBEbsaApf"
      },
      "execution_count": null,
      "outputs": []
    }
  ]
}