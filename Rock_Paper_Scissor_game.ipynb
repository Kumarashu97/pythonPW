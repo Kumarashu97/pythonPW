{
  "nbformat": 4,
  "nbformat_minor": 0,
  "metadata": {
    "colab": {
      "provenance": [],
      "authorship_tag": "ABX9TyPhbsAbE4aVDRtSj1ii2l4a",
      "include_colab_link": true
    },
    "kernelspec": {
      "name": "python3",
      "display_name": "Python 3"
    },
    "language_info": {
      "name": "python"
    }
  },
  "cells": [
    {
      "cell_type": "markdown",
      "metadata": {
        "id": "view-in-github",
        "colab_type": "text"
      },
      "source": [
        "<a href=\"https://colab.research.google.com/github/Kumarashu97/pythonPW/blob/main/Rock_Paper_Scissor_game.ipynb\" target=\"_parent\"><img src=\"https://colab.research.google.com/assets/colab-badge.svg\" alt=\"Open In Colab\"/></a>"
      ]
    },
    {
      "cell_type": "code",
      "execution_count": 1,
      "metadata": {
        "id": "WS50mN3TNpa5"
      },
      "outputs": [],
      "source": [
        "import random"
      ]
    },
    {
      "cell_type": "code",
      "source": [
        "choices = ['rock', 'paper', 'scissors']"
      ],
      "metadata": {
        "id": "mr7K7LW_NyEk"
      },
      "execution_count": 2,
      "outputs": []
    },
    {
      "cell_type": "code",
      "source": [
        "computer = random.choice(choices)"
      ],
      "metadata": {
        "id": "XGvK5Ln6N2ES"
      },
      "execution_count": 3,
      "outputs": []
    },
    {
      "cell_type": "code",
      "source": [
        "player = None\n",
        "while player not in choices:\n",
        "\n",
        "  player = input('rock, paper, or scissors? ').lower()\n",
        "\n",
        "  if player == computer:\n",
        "   print('computer: ', computer)\n",
        "   print('player: ', player)\n",
        "   print('tie!')\n",
        "  elif player == 'rock':\n",
        "   if computer == 'paper':\n",
        "\n",
        "    print('computer: ', computer)\n",
        "    print('player: ', player)\n",
        "    print('you lose!')\n",
        "   if computer == 'scissors':\n",
        "    print('computer: ', computer)\n",
        "    print('player: ', player)\n",
        "    print('you win!')\n",
        "\n",
        "  elif player == 'scissors':\n",
        "   if computer == 'rock':\n",
        "    print('computer: ', computer)\n",
        "    print('player: ', player)\n",
        "    print('you lose!')\n",
        "   if computer == 'paper':\n",
        "    print('computer: ', computer)\n",
        "    print('player: ', player)\n",
        "    print('you win')\n",
        "  elif player == 'paper':\n",
        "   if computer == 'scissors':\n",
        "    print('computer: ', computer)\n",
        "    print('player: ', player)\n",
        "    print('you lose!')\n",
        "   if computer == 'rock':\n",
        "    print('computer: ', computer)\n",
        "    print('player: ', player)\n",
        "    print('you win!')\n",
        "\n",
        "\n",
        "\n"
      ],
      "metadata": {
        "colab": {
          "base_uri": "https://localhost:8080/"
        },
        "id": "f0wX6K-YN4nm",
        "outputId": "2e0808f8-da1c-475d-ca06-be3c79e8ea4f"
      },
      "execution_count": 6,
      "outputs": [
        {
          "output_type": "stream",
          "name": "stdout",
          "text": [
            "rock, paper, or scissors? ashuuu\n",
            "rock, paper, or scissors? pppppp\n",
            "rock, paper, or scissors? papr\n",
            "rock, paper, or scissors? paper\n",
            "computer:  scissors\n",
            "player:  paper\n",
            "you lose!\n"
          ]
        }
      ]
    },
    {
      "cell_type": "code",
      "source": [],
      "metadata": {
        "id": "eAxxKMiAN848"
      },
      "execution_count": null,
      "outputs": []
    }
  ]
}