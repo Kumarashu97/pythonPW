{
  "nbformat": 4,
  "nbformat_minor": 0,
  "metadata": {
    "colab": {
      "provenance": [],
      "authorship_tag": "ABX9TyPu3VkpV4nVJbsIvb6RihsM",
      "include_colab_link": true
    },
    "kernelspec": {
      "name": "python3",
      "display_name": "Python 3"
    },
    "language_info": {
      "name": "python"
    }
  },
  "cells": [
    {
      "cell_type": "markdown",
      "metadata": {
        "id": "view-in-github",
        "colab_type": "text"
      },
      "source": [
        "<a href=\"https://colab.research.google.com/github/Kumarashu97/pythonPW/blob/main/OOPS.ipynb\" target=\"_parent\"><img src=\"https://colab.research.google.com/assets/colab-badge.svg\" alt=\"Open In Colab\"/></a>"
      ]
    },
    {
      "cell_type": "code",
      "execution_count": 11,
      "metadata": {
        "id": "h3Ys_vH8VQX4"
      },
      "outputs": [],
      "source": [
        "class Car:\n",
        "  wheels = 4 #class var\n",
        "\n",
        "  def __init__(self, make, model, year):\n",
        "        self.make = make #instance var\n",
        "        self.model = model\n",
        "        self.year = year\n",
        "\n",
        "  def drive(self):\n",
        "        print(f\"{self.year} {self.make} {self.model} is driving.\")\n",
        "\n",
        "  def park(self):\n",
        "        print(f\"{self.year} {self.make} {self.model} is parking.\")\n",
        "\n",
        "  def stop(self):\n",
        "        print(f\"{self.year} {self.make} {self.model} is stopping.\")"
      ]
    },
    {
      "cell_type": "code",
      "source": [
        "c1 = Car(\"bmw\",\"z-60\",2020)"
      ],
      "metadata": {
        "id": "7beD_fluW2aX"
      },
      "execution_count": 4,
      "outputs": []
    },
    {
      "cell_type": "code",
      "source": [
        "c1.drive()"
      ],
      "metadata": {
        "colab": {
          "base_uri": "https://localhost:8080/"
        },
        "id": "bjdEGO86XPm3",
        "outputId": "ab531e40-f5fe-4d18-b575-81c983de34a7"
      },
      "execution_count": 5,
      "outputs": [
        {
          "output_type": "stream",
          "name": "stdout",
          "text": [
            "2020 bmw z-60 is driving.\n"
          ]
        }
      ]
    },
    {
      "cell_type": "code",
      "source": [
        "c1.park()"
      ],
      "metadata": {
        "colab": {
          "base_uri": "https://localhost:8080/"
        },
        "id": "C9C4gUMLXRnt",
        "outputId": "a1e7663d-d4c2-4f00-b40a-09c285cfd8e4"
      },
      "execution_count": 6,
      "outputs": [
        {
          "output_type": "stream",
          "name": "stdout",
          "text": [
            "2020 bmw z-60 is parking.\n"
          ]
        }
      ]
    },
    {
      "cell_type": "code",
      "source": [
        "c1.stop()"
      ],
      "metadata": {
        "colab": {
          "base_uri": "https://localhost:8080/"
        },
        "id": "lYjXGiGhXUZQ",
        "outputId": "dc20ed45-f3b8-4e7d-8465-bca57f0c3f1b"
      },
      "execution_count": 7,
      "outputs": [
        {
          "output_type": "stream",
          "name": "stdout",
          "text": [
            "2020 bmw z-60 is stopping.\n"
          ]
        }
      ]
    },
    {
      "cell_type": "code",
      "source": [
        "c2 = Car(\"Toyota\",\"Corolla\",2019)"
      ],
      "metadata": {
        "id": "QZ3BsdHdXhXj"
      },
      "execution_count": 13,
      "outputs": []
    },
    {
      "cell_type": "code",
      "source": [
        "c2.wheels"
      ],
      "metadata": {
        "colab": {
          "base_uri": "https://localhost:8080/"
        },
        "id": "B3LI0sW5XoVI",
        "outputId": "55545432-c50a-40b8-a164-f36c5b7a36c0"
      },
      "execution_count": 14,
      "outputs": [
        {
          "output_type": "execute_result",
          "data": {
            "text/plain": [
              "4"
            ]
          },
          "metadata": {},
          "execution_count": 14
        }
      ]
    },
    {
      "cell_type": "code",
      "source": [
        "Car.wheels"
      ],
      "metadata": {
        "colab": {
          "base_uri": "https://localhost:8080/"
        },
        "id": "08hmhGpHX5AQ",
        "outputId": "2b19f546-320d-4191-ca8a-0344a72e6607"
      },
      "execution_count": 15,
      "outputs": [
        {
          "output_type": "execute_result",
          "data": {
            "text/plain": [
              "4"
            ]
          },
          "metadata": {},
          "execution_count": 15
        }
      ]
    },
    {
      "cell_type": "markdown",
      "source": [
        "Inheritence:"
      ],
      "metadata": {
        "id": "thkM6PfTYVKA"
      }
    },
    {
      "cell_type": "code",
      "source": [
        "class Animal:\n",
        "  def __init__(self, name, species):\n",
        "    self.name = name\n",
        "    self.species = species\n",
        "\n",
        "  def eat(self):\n",
        "    print(f\"{self.name} is eating.\")\n",
        "\n",
        "  def sleep(self):\n",
        "    print(f\"{self.name} is sleeping.\")\n",
        ""
      ],
      "metadata": {
        "id": "WiL8mMsnYG8-"
      },
      "execution_count": 16,
      "outputs": []
    },
    {
      "cell_type": "code",
      "source": [
        "class Rabbit(Animal):\n",
        "  pass"
      ],
      "metadata": {
        "id": "YupLQCI2YloE"
      },
      "execution_count": 17,
      "outputs": []
    },
    {
      "cell_type": "code",
      "source": [
        "class Dog(Animal):\n",
        "  pass"
      ],
      "metadata": {
        "id": "Rfyi0b2PYwx5"
      },
      "execution_count": 18,
      "outputs": []
    },
    {
      "cell_type": "code",
      "source": [
        "rabbit = Rabbit(\"Bugs\",\"Bunny Rabbit\")"
      ],
      "metadata": {
        "id": "PXBcMAMaY0u2"
      },
      "execution_count": 19,
      "outputs": []
    },
    {
      "cell_type": "code",
      "source": [
        "dog = Dog(\"Fido\",\"Canine\")"
      ],
      "metadata": {
        "id": "dD0EiAjHY7cw"
      },
      "execution_count": 20,
      "outputs": []
    },
    {
      "cell_type": "code",
      "source": [
        "rabbit.eat()"
      ],
      "metadata": {
        "colab": {
          "base_uri": "https://localhost:8080/"
        },
        "id": "eYqABLlEY9Wn",
        "outputId": "ad81998a-a22f-4953-a386-4d7632310ad5"
      },
      "execution_count": 21,
      "outputs": [
        {
          "output_type": "stream",
          "name": "stdout",
          "text": [
            "Bugs is eating.\n"
          ]
        }
      ]
    },
    {
      "cell_type": "code",
      "source": [
        "dog.sleep()"
      ],
      "metadata": {
        "colab": {
          "base_uri": "https://localhost:8080/"
        },
        "id": "3imqdfz4Y_kS",
        "outputId": "f4a44fb3-b0e3-4e6a-e3ff-bb51641cea64"
      },
      "execution_count": 22,
      "outputs": [
        {
          "output_type": "stream",
          "name": "stdout",
          "text": [
            "Fido is sleeping.\n"
          ]
        }
      ]
    },
    {
      "cell_type": "markdown",
      "source": [
        "Multi-Level inheritence"
      ],
      "metadata": {
        "id": "4Kme-MAtZjtH"
      }
    },
    {
      "cell_type": "code",
      "source": [
        "class Organism:\n",
        "  alive = True\n",
        "\n",
        "class Animal(Organism):\n",
        "  def eat(self):\n",
        "    print(\"animal is eating.\")\n",
        "\n",
        "  def sleep(self):\n",
        "    print(\"animal is sleeping.\")\n",
        "\n",
        "class Dog(Animal):\n",
        "  def bark(self):\n",
        "    print(\"dog is barking.\")"
      ],
      "metadata": {
        "id": "jiwSnAS0ZCAk"
      },
      "execution_count": 29,
      "outputs": []
    },
    {
      "cell_type": "code",
      "source": [
        "dog = Dog()"
      ],
      "metadata": {
        "id": "OrqaLQuVZ0se"
      },
      "execution_count": 30,
      "outputs": []
    },
    {
      "cell_type": "code",
      "source": [
        "print(dog.alive)"
      ],
      "metadata": {
        "colab": {
          "base_uri": "https://localhost:8080/"
        },
        "id": "fCEwp_EoZ3pt",
        "outputId": "6f170383-9b4a-4a27-a1ee-2d29148f47bd"
      },
      "execution_count": 31,
      "outputs": [
        {
          "output_type": "stream",
          "name": "stdout",
          "text": [
            "True\n"
          ]
        }
      ]
    },
    {
      "cell_type": "code",
      "source": [
        "dog.eat()"
      ],
      "metadata": {
        "colab": {
          "base_uri": "https://localhost:8080/"
        },
        "id": "MRcpBjxoZ-oJ",
        "outputId": "bafa102b-efdc-4520-cc9c-12804eb87450"
      },
      "execution_count": 32,
      "outputs": [
        {
          "output_type": "stream",
          "name": "stdout",
          "text": [
            "animal is eating.\n"
          ]
        }
      ]
    },
    {
      "cell_type": "code",
      "source": [
        "dog.bark()"
      ],
      "metadata": {
        "colab": {
          "base_uri": "https://localhost:8080/"
        },
        "id": "y2G7IFgyaBzS",
        "outputId": "f614b89a-a86c-497f-a457-28b0b0047aab"
      },
      "execution_count": 33,
      "outputs": [
        {
          "output_type": "stream",
          "name": "stdout",
          "text": [
            "dog is barking.\n"
          ]
        }
      ]
    },
    {
      "cell_type": "markdown",
      "source": [
        "Multiple inheritence"
      ],
      "metadata": {
        "id": "TpiB4-E9isaY"
      }
    },
    {
      "cell_type": "code",
      "source": [
        "class Prey:\n",
        "  def flee(self):\n",
        "    print(\"The animal flee\")\n",
        "\n",
        "class Predator:\n",
        "  def hunt(self):\n",
        "    print(\"The animal is hunting\")\n"
      ],
      "metadata": {
        "id": "aI8HoSS5aWy_"
      },
      "execution_count": 35,
      "outputs": []
    },
    {
      "cell_type": "code",
      "source": [
        "class Rabbit(Prey):\n",
        "  pass\n",
        "\n",
        "class Hawk(Predator):\n",
        "  pass\n",
        "\n",
        "class Fish(Prey,Predator):\n",
        "  pass\n",
        "\n",
        "\n",
        "rabbit = Rabbit()\n",
        "hawk = Hawk()\n",
        "fish = Fish()\n",
        "\n"
      ],
      "metadata": {
        "id": "-8RB1oZzjIo5"
      },
      "execution_count": 36,
      "outputs": []
    },
    {
      "cell_type": "code",
      "source": [
        "rabbit.flee()"
      ],
      "metadata": {
        "colab": {
          "base_uri": "https://localhost:8080/"
        },
        "id": "6rEWRKr-kTLP",
        "outputId": "952d1906-68f7-4126-e74d-c1848dc04cc7"
      },
      "execution_count": 37,
      "outputs": [
        {
          "output_type": "stream",
          "name": "stdout",
          "text": [
            "The animal flee\n"
          ]
        }
      ]
    },
    {
      "cell_type": "code",
      "source": [
        "hawk.hunt()"
      ],
      "metadata": {
        "colab": {
          "base_uri": "https://localhost:8080/"
        },
        "id": "GwIXNUMhkgNT",
        "outputId": "647fd2b3-26de-4ecf-a52c-5ee97182484b"
      },
      "execution_count": 38,
      "outputs": [
        {
          "output_type": "stream",
          "name": "stdout",
          "text": [
            "The animal is hunting\n"
          ]
        }
      ]
    },
    {
      "cell_type": "code",
      "source": [
        "fish.flee()\n",
        "fish.hunt()"
      ],
      "metadata": {
        "colab": {
          "base_uri": "https://localhost:8080/"
        },
        "id": "ig_MAOedkfEC",
        "outputId": "f4edf259-62e3-453a-f21f-72553aaa95a6"
      },
      "execution_count": 39,
      "outputs": [
        {
          "output_type": "stream",
          "name": "stdout",
          "text": [
            "The animal flee\n",
            "The animal is hunting\n"
          ]
        }
      ]
    },
    {
      "cell_type": "markdown",
      "source": [
        "Method Overriding"
      ],
      "metadata": {
        "id": "9GXLBsT6kqW5"
      }
    },
    {
      "cell_type": "code",
      "source": [
        "class Animal:\n",
        "  def eat(self):\n",
        "    print(\"This animal is eating\")\n",
        "\n",
        "class Rabbit(Animal):\n",
        "  def eat(self):\n",
        "    print(\"This rabbit is eating a carrot\")\n",
        "\n"
      ],
      "metadata": {
        "id": "DB5IBlydknoX"
      },
      "execution_count": 40,
      "outputs": []
    },
    {
      "cell_type": "code",
      "source": [
        "rabbit = Rabbit()\n",
        "rabbit.eat()"
      ],
      "metadata": {
        "colab": {
          "base_uri": "https://localhost:8080/"
        },
        "id": "OzSYxb8SlC4o",
        "outputId": "8b02df00-2d95-49f7-883d-961d9d94019f"
      },
      "execution_count": 41,
      "outputs": [
        {
          "output_type": "stream",
          "name": "stdout",
          "text": [
            "This rabbit is eating a carrot\n"
          ]
        }
      ]
    },
    {
      "cell_type": "markdown",
      "source": [
        "Method Chaining :"
      ],
      "metadata": {
        "id": "ndBEJNOdlKQA"
      }
    },
    {
      "cell_type": "code",
      "source": [
        "class Car:\n",
        "  def turn_on(self):\n",
        "    print(\"Car is turning on\")\n",
        "    return self\n",
        "\n",
        "  def drive(self):\n",
        "    print(\"Car is driving\")\n",
        "    return self\n",
        "\n",
        "  def brake(self):\n",
        "    print(\"Car is braking\")\n",
        "    return self"
      ],
      "metadata": {
        "id": "TpPo86KMlGdw"
      },
      "execution_count": 42,
      "outputs": []
    },
    {
      "cell_type": "code",
      "source": [
        "car = Car()\n",
        "car.turn_on().drive().brake()"
      ],
      "metadata": {
        "colab": {
          "base_uri": "https://localhost:8080/"
        },
        "id": "ihFYRVNKl8W7",
        "outputId": "ec141599-6628-41ae-e6fb-d9c3883ae577"
      },
      "execution_count": 43,
      "outputs": [
        {
          "output_type": "stream",
          "name": "stdout",
          "text": [
            "Car is turning on\n",
            "Car is driving\n",
            "Car is braking\n"
          ]
        },
        {
          "output_type": "execute_result",
          "data": {
            "text/plain": [
              "<__main__.Car at 0x7cece48c7d60>"
            ]
          },
          "metadata": {},
          "execution_count": 43
        }
      ]
    },
    {
      "cell_type": "code",
      "source": [
        "class Rectangle:\n",
        "  def __init__(self, length, width):\n",
        "    self.length = length\n",
        "    self.width = width\n",
        "\n",
        "  def area(self):\n",
        "    return self.length * self.width\n",
        "\n",
        "  def perimeter(self):\n",
        "    return 2 * self.length + 2 * self.width\n",
        "\n",
        "class square(Rectangle):\n",
        "  def __init__(self, length):\n",
        "    super().__init__(length, length)\n",
        "  def area(self):\n",
        "    return self.length * self.length\n",
        "\n",
        "  def perimeter(self):\n",
        "    return 4 * self.length\n",
        "\n",
        "class cube(square):\n",
        "  def surface_area(self):\n",
        "    face_area = super().area()\n",
        "    return face_area * 6\n",
        "\n",
        "  def volume(self):\n",
        "    face_area = super().area()\n",
        "    return face_area * self.length"
      ],
      "metadata": {
        "id": "__cKNqZAl-eP"
      },
      "execution_count": 44,
      "outputs": []
    },
    {
      "cell_type": "code",
      "source": [
        "sq = square(4)"
      ],
      "metadata": {
        "id": "2jV-K_qinRcr"
      },
      "execution_count": 45,
      "outputs": []
    },
    {
      "cell_type": "code",
      "source": [
        "sq.area()"
      ],
      "metadata": {
        "colab": {
          "base_uri": "https://localhost:8080/"
        },
        "id": "SVIUf_6_tiaJ",
        "outputId": "b4a2f37b-5177-4c1d-b1fa-87bda1643318"
      },
      "execution_count": 46,
      "outputs": [
        {
          "output_type": "execute_result",
          "data": {
            "text/plain": [
              "16"
            ]
          },
          "metadata": {},
          "execution_count": 46
        }
      ]
    },
    {
      "cell_type": "code",
      "source": [
        "cube = cube(3)"
      ],
      "metadata": {
        "id": "NP06kIMFtk5l"
      },
      "execution_count": 47,
      "outputs": []
    },
    {
      "cell_type": "code",
      "source": [
        "cube.volume()"
      ],
      "metadata": {
        "colab": {
          "base_uri": "https://localhost:8080/"
        },
        "id": "pmn7eagltnlX",
        "outputId": "7ef350e9-acd1-46b0-8ce7-a8f179a2ee97"
      },
      "execution_count": 48,
      "outputs": [
        {
          "output_type": "execute_result",
          "data": {
            "text/plain": [
              "27"
            ]
          },
          "metadata": {},
          "execution_count": 48
        }
      ]
    },
    {
      "cell_type": "markdown",
      "source": [
        "Abstract Class"
      ],
      "metadata": {
        "id": "ChqEce-Tt1G-"
      }
    },
    {
      "cell_type": "code",
      "source": [
        "from abc import ABC, abstractmethod\n",
        "\n",
        "\n",
        "class Vehicle(ABC):\n",
        "  @abstractmethod\n",
        "  def go(self):\n",
        "    pass\n",
        "\n",
        "class Car(Vehicle):\n",
        "  def go(self):\n",
        "    print(\"Car is going\")\n",
        "\n",
        "  def stop(self):\n",
        "    print(\"Car is stopping\")\n",
        "\n",
        "class Motorcycle(Vehicle):\n",
        "  def go(self):\n",
        "    print(\"Motorcycle is going\")\n",
        "\n",
        "  def stop(self):\n",
        "    print(\"Motorcycle is stopping\")"
      ],
      "metadata": {
        "id": "0jIhXazStq4I"
      },
      "execution_count": 49,
      "outputs": []
    },
    {
      "cell_type": "code",
      "source": [
        "\n",
        "car = Car()\n",
        "motorcycle = Motorcycle()"
      ],
      "metadata": {
        "id": "-9aQyTk_uMCO"
      },
      "execution_count": 50,
      "outputs": []
    },
    {
      "cell_type": "code",
      "source": [
        "car.go()"
      ],
      "metadata": {
        "colab": {
          "base_uri": "https://localhost:8080/"
        },
        "id": "iEHVWQ-juSfa",
        "outputId": "66504baa-d2d3-4836-a236-6534ff6bd3a0"
      },
      "execution_count": 51,
      "outputs": [
        {
          "output_type": "stream",
          "name": "stdout",
          "text": [
            "Car is going\n"
          ]
        }
      ]
    },
    {
      "cell_type": "code",
      "source": [
        "motorcycle.stop()"
      ],
      "metadata": {
        "colab": {
          "base_uri": "https://localhost:8080/"
        },
        "id": "a-VmgyyruUD8",
        "outputId": "b86a3a58-3f7d-4496-c0d1-6514dc25cabd"
      },
      "execution_count": 52,
      "outputs": [
        {
          "output_type": "stream",
          "name": "stdout",
          "text": [
            "Motorcycle is stopping\n"
          ]
        }
      ]
    },
    {
      "cell_type": "markdown",
      "source": [
        "objects as argument:"
      ],
      "metadata": {
        "id": "MZj4jOFDvdPV"
      }
    },
    {
      "cell_type": "code",
      "source": [
        "class Car:\n",
        "  color = None\n",
        "\n",
        "class motorcycle:\n",
        "  color = None\n",
        "\n",
        "def change_color(car, color):\n",
        "  car.color = color"
      ],
      "metadata": {
        "id": "ZlCTytG6uV-a"
      },
      "execution_count": 55,
      "outputs": []
    },
    {
      "cell_type": "code",
      "source": [
        "car1 = Car()\n",
        "car2 = Car()\n",
        "\n",
        "car1.color = \"blue\"\n",
        "car2.color = \"red\"\n",
        "\n",
        "change_color(car1,\"green\")\n",
        "change_color(car2,\"yellow\")\n",
        "print(car1.color)\n",
        "print(car2.color)"
      ],
      "metadata": {
        "colab": {
          "base_uri": "https://localhost:8080/"
        },
        "id": "iLjrP-K8vrYq",
        "outputId": "697d4bcb-f52f-4c38-de9b-1804cdd6e9ce"
      },
      "execution_count": 54,
      "outputs": [
        {
          "output_type": "stream",
          "name": "stdout",
          "text": [
            "green\n",
            "yellow\n"
          ]
        }
      ]
    },
    {
      "cell_type": "code",
      "source": [
        "bajaj = motorcycle()\n",
        "change_color(bajaj,\"red\")"
      ],
      "metadata": {
        "id": "xt-Ht0EFv4IS"
      },
      "execution_count": 56,
      "outputs": []
    },
    {
      "cell_type": "code",
      "source": [
        "bajaj.color"
      ],
      "metadata": {
        "colab": {
          "base_uri": "https://localhost:8080/",
          "height": 36
        },
        "id": "5knTjrNUwPlX",
        "outputId": "c901f6e8-afc2-4aee-aeb9-e740c3400e95"
      },
      "execution_count": 57,
      "outputs": [
        {
          "output_type": "execute_result",
          "data": {
            "text/plain": [
              "'red'"
            ],
            "application/vnd.google.colaboratory.intrinsic+json": {
              "type": "string"
            }
          },
          "metadata": {},
          "execution_count": 57
        }
      ]
    },
    {
      "cell_type": "code",
      "source": [
        "class Duck:\n",
        "  def walk(self):\n",
        "    print(\"Duck is walking\")\n",
        "\n",
        "  def talk(self):\n",
        "    print(\"Duck is quacking\")\n",
        "\n",
        "class Chicken:\n",
        "  def walk(self):\n",
        "    print(\"Chicken is walking\")\n",
        "\n",
        "  def talk(self):\n",
        "    print(\"Chicken is clucking\")\n",
        "\n",
        "class Person:\n",
        "  def catch(self, duck):\n",
        "    duck.walk()\n",
        "    duck.talk()\n",
        "    print(\"Person is catching the duck\")\n"
      ],
      "metadata": {
        "id": "UwDfR2kJwRvu"
      },
      "execution_count": 58,
      "outputs": []
    },
    {
      "cell_type": "code",
      "source": [
        "duck = Duck()\n",
        "chicken = Chicken()\n",
        "person = Person()\n",
        "\n",
        "def catch_chicken(self, chicken):\n",
        "  chicken.walk()\n",
        "  chicken.talk()\n",
        "  print(\"Person is catching the chicken\")"
      ],
      "metadata": {
        "id": "CIqJ21fmw4OI"
      },
      "execution_count": 59,
      "outputs": []
    },
    {
      "cell_type": "code",
      "source": [
        "catch_chicken(person,chicken)"
      ],
      "metadata": {
        "colab": {
          "base_uri": "https://localhost:8080/"
        },
        "id": "YM55GJ-ExAoN",
        "outputId": "b091d2bc-137d-41ff-85bc-1773aabbbb14"
      },
      "execution_count": 60,
      "outputs": [
        {
          "output_type": "stream",
          "name": "stdout",
          "text": [
            "Chicken is walking\n",
            "Chicken is clucking\n",
            "Person is catching the chicken\n"
          ]
        }
      ]
    },
    {
      "cell_type": "code",
      "source": [
        "#warlus operator:\n",
        "print(happy := True)\n"
      ],
      "metadata": {
        "colab": {
          "base_uri": "https://localhost:8080/"
        },
        "id": "Z7L-1BaXxCZP",
        "outputId": "98266978-8347-4b02-f01a-4fbbc463c6a0"
      },
      "execution_count": 61,
      "outputs": [
        {
          "output_type": "stream",
          "name": "stdout",
          "text": [
            "True\n"
          ]
        }
      ]
    },
    {
      "cell_type": "code",
      "source": [
        "foods = list()\n",
        "while True:\n",
        "  food = input(\"What food do you like?\")\n",
        "  if food == \"quit\":\n",
        "    break\n",
        "  foods.append(food)"
      ],
      "metadata": {
        "colab": {
          "base_uri": "https://localhost:8080/"
        },
        "id": "DsB2elJGxtJV",
        "outputId": "7943ea59-d5eb-4207-e5e0-aea932566558"
      },
      "execution_count": 62,
      "outputs": [
        {
          "name": "stdout",
          "output_type": "stream",
          "text": [
            "What food do you like?\n",
            "What food do you like?pizaa\n",
            "What food do you like?sushi\n",
            "What food do you like?quit\n"
          ]
        }
      ]
    },
    {
      "cell_type": "code",
      "source": [
        "foods"
      ],
      "metadata": {
        "colab": {
          "base_uri": "https://localhost:8080/"
        },
        "id": "_7-VFRmuxxX2",
        "outputId": "ee738f66-b473-44d3-d136-c0084a10f623"
      },
      "execution_count": 63,
      "outputs": [
        {
          "output_type": "execute_result",
          "data": {
            "text/plain": [
              "['', 'pizaa', 'sushi']"
            ]
          },
          "metadata": {},
          "execution_count": 63
        }
      ]
    },
    {
      "cell_type": "code",
      "source": [
        "foods = list()\n",
        "while food := input(\"What food do you like?\") == \"quit\":\n",
        "  foods.append(food)"
      ],
      "metadata": {
        "colab": {
          "base_uri": "https://localhost:8080/"
        },
        "id": "y0YOSQOlx3xc",
        "outputId": "ebc29543-6ed2-4e97-d17a-2a66d4e3511e"
      },
      "execution_count": 64,
      "outputs": [
        {
          "name": "stdout",
          "output_type": "stream",
          "text": [
            "What food do you like?pizza\n",
            "What food do you like?sushi\n",
            "What food do you like?cake\n",
            "What food do you like?quit\n"
          ]
        }
      ]
    },
    {
      "cell_type": "code",
      "source": [
        "foods"
      ],
      "metadata": {
        "colab": {
          "base_uri": "https://localhost:8080/"
        },
        "id": "lNE8b2FlyD0U",
        "outputId": "d802b3c9-a2c4-46dd-c04c-492b80b0d87a"
      },
      "execution_count": 65,
      "outputs": [
        {
          "output_type": "execute_result",
          "data": {
            "text/plain": [
              "[True, True, True]"
            ]
          },
          "metadata": {},
          "execution_count": 65
        }
      ]
    },
    {
      "cell_type": "code",
      "source": [
        "def hello():\n",
        "  print(\"Hello\")"
      ],
      "metadata": {
        "id": "UbOlNK79yH5f"
      },
      "execution_count": 66,
      "outputs": []
    },
    {
      "cell_type": "code",
      "source": [
        "print(hello)"
      ],
      "metadata": {
        "colab": {
          "base_uri": "https://localhost:8080/"
        },
        "id": "AzjzyUtiyYL7",
        "outputId": "e2c564e1-57db-459d-9494-9b859eed9257"
      },
      "execution_count": 67,
      "outputs": [
        {
          "output_type": "stream",
          "name": "stdout",
          "text": [
            "<function hello at 0x7ceca6854a60>\n"
          ]
        }
      ]
    },
    {
      "cell_type": "code",
      "source": [
        "hi = hello\n",
        "hi()\n",
        "hello()\n"
      ],
      "metadata": {
        "colab": {
          "base_uri": "https://localhost:8080/"
        },
        "id": "01Ycv7Y5yZ7I",
        "outputId": "262056a7-2b0d-4ec4-ed11-01a05e231c21"
      },
      "execution_count": 69,
      "outputs": [
        {
          "output_type": "stream",
          "name": "stdout",
          "text": [
            "Hello\n",
            "Hello\n"
          ]
        }
      ]
    },
    {
      "cell_type": "code",
      "source": [
        "say = print\n",
        "say(\"Hello\")\n"
      ],
      "metadata": {
        "colab": {
          "base_uri": "https://localhost:8080/"
        },
        "id": "yeVsccCdyfwh",
        "outputId": "634e2ca2-fc71-43d4-b835-5e28d65601fe"
      },
      "execution_count": 71,
      "outputs": [
        {
          "output_type": "stream",
          "name": "stdout",
          "text": [
            "Hello\n"
          ]
        }
      ]
    },
    {
      "cell_type": "markdown",
      "source": [
        "Higher order function"
      ],
      "metadata": {
        "id": "muxI9MwCy2Nl"
      }
    },
    {
      "cell_type": "code",
      "source": [
        "def loud(text):\n",
        "  return text.upper()\n",
        "\n",
        "def quiet(text):\n",
        "  return text.lower()\n",
        "\n",
        "def hello(func): #higher order function\n",
        "  text = func(\"Hello World\")\n",
        "  print(text)"
      ],
      "metadata": {
        "id": "QuIsXjKyyoIc"
      },
      "execution_count": 72,
      "outputs": []
    },
    {
      "cell_type": "code",
      "source": [
        "hello(loud)"
      ],
      "metadata": {
        "colab": {
          "base_uri": "https://localhost:8080/"
        },
        "id": "zFncOLuhzIZ7",
        "outputId": "d8fa88af-3ab0-40ed-f047-d01bc8bd6a01"
      },
      "execution_count": 73,
      "outputs": [
        {
          "output_type": "stream",
          "name": "stdout",
          "text": [
            "HELLO WORLD\n"
          ]
        }
      ]
    },
    {
      "cell_type": "code",
      "source": [
        "hello(quiet)"
      ],
      "metadata": {
        "colab": {
          "base_uri": "https://localhost:8080/"
        },
        "id": "Pc0uzbJRzJ9O",
        "outputId": "2333ce1a-269a-4540-baf0-3b6a96a57379"
      },
      "execution_count": 74,
      "outputs": [
        {
          "output_type": "stream",
          "name": "stdout",
          "text": [
            "hello world\n"
          ]
        }
      ]
    },
    {
      "cell_type": "code",
      "source": [
        "def divisor(x):\n",
        "  def dividend(y):\n",
        "    return y/x\n",
        "  return dividend\n",
        "\n",
        "divide = divisor(5)\n",
        "print(divide(100))"
      ],
      "metadata": {
        "colab": {
          "base_uri": "https://localhost:8080/"
        },
        "id": "5q0ws-iYzMhV",
        "outputId": "32616468-2ff7-43b7-d084-e12b33891531"
      },
      "execution_count": 75,
      "outputs": [
        {
          "output_type": "stream",
          "name": "stdout",
          "text": [
            "20.0\n"
          ]
        }
      ]
    },
    {
      "cell_type": "markdown",
      "source": [
        "lambda function:\n"
      ],
      "metadata": {
        "id": "EwtjeeyQz53u"
      }
    },
    {
      "cell_type": "code",
      "source": [
        "sq = lambda x: x * x"
      ],
      "metadata": {
        "id": "Ltzaynt1zqrp"
      },
      "execution_count": 85,
      "outputs": []
    },
    {
      "cell_type": "code",
      "source": [
        "sq(5)"
      ],
      "metadata": {
        "colab": {
          "base_uri": "https://localhost:8080/"
        },
        "id": "OiETCyGK0JCS",
        "outputId": "9dfe7dc2-2471-4d97-d3f0-28d209891fe8"
      },
      "execution_count": 86,
      "outputs": [
        {
          "output_type": "execute_result",
          "data": {
            "text/plain": [
              "25"
            ]
          },
          "metadata": {},
          "execution_count": 86
        }
      ]
    },
    {
      "cell_type": "code",
      "source": [
        "Multiply = lambda x,y : x*y\n",
        "Multiply(3,5)"
      ],
      "metadata": {
        "colab": {
          "base_uri": "https://localhost:8080/"
        },
        "id": "dUw5CyIT0ZLw",
        "outputId": "8059663e-c13a-4e9f-a427-4ea3083b3ce0"
      },
      "execution_count": 87,
      "outputs": [
        {
          "output_type": "execute_result",
          "data": {
            "text/plain": [
              "15"
            ]
          },
          "metadata": {},
          "execution_count": 87
        }
      ]
    },
    {
      "cell_type": "code",
      "source": [
        "add = lambda x,y,z: x+y+z"
      ],
      "metadata": {
        "id": "XSeIAycg0rX_"
      },
      "execution_count": 88,
      "outputs": []
    },
    {
      "cell_type": "code",
      "source": [
        "add(1,2,3)"
      ],
      "metadata": {
        "colab": {
          "base_uri": "https://localhost:8080/"
        },
        "id": "5aCqr8c50wZV",
        "outputId": "3c373e4c-f1cf-4827-e6e6-11c9bf77ab12"
      },
      "execution_count": 89,
      "outputs": [
        {
          "output_type": "execute_result",
          "data": {
            "text/plain": [
              "6"
            ]
          },
          "metadata": {},
          "execution_count": 89
        }
      ]
    },
    {
      "cell_type": "code",
      "source": [
        "age_chck = lambda age: True if age >= 18 else False"
      ],
      "metadata": {
        "id": "3Qltfhj00yT3"
      },
      "execution_count": 90,
      "outputs": []
    },
    {
      "cell_type": "code",
      "source": [
        "age_chck(19)"
      ],
      "metadata": {
        "colab": {
          "base_uri": "https://localhost:8080/"
        },
        "id": "_ocomUOZ03Bg",
        "outputId": "a8bba032-aa1a-4332-f182-7a814aa0ab94"
      },
      "execution_count": 91,
      "outputs": [
        {
          "output_type": "execute_result",
          "data": {
            "text/plain": [
              "True"
            ]
          },
          "metadata": {},
          "execution_count": 91
        }
      ]
    },
    {
      "cell_type": "code",
      "source": [
        "num = [23,56,12,45,6]"
      ],
      "metadata": {
        "id": "SzWvXqiH04nr"
      },
      "execution_count": 92,
      "outputs": []
    },
    {
      "cell_type": "code",
      "source": [
        "num.sort()"
      ],
      "metadata": {
        "id": "qZX_KsXk1L1E"
      },
      "execution_count": 93,
      "outputs": []
    },
    {
      "cell_type": "code",
      "source": [
        "for i in num:\n",
        "  print(i)"
      ],
      "metadata": {
        "colab": {
          "base_uri": "https://localhost:8080/"
        },
        "id": "i1NKCIhP1NkA",
        "outputId": "f267d2f9-9bfe-45d2-81ef-90d43e836286"
      },
      "execution_count": 94,
      "outputs": [
        {
          "output_type": "stream",
          "name": "stdout",
          "text": [
            "6\n",
            "12\n",
            "23\n",
            "45\n",
            "56\n"
          ]
        }
      ]
    },
    {
      "cell_type": "code",
      "source": [
        "num.sort(reverse=True)"
      ],
      "metadata": {
        "id": "yjMA_wiz1RY5"
      },
      "execution_count": 95,
      "outputs": []
    },
    {
      "cell_type": "code",
      "source": [
        "for i in num:\n",
        "  print(i)"
      ],
      "metadata": {
        "colab": {
          "base_uri": "https://localhost:8080/"
        },
        "id": "mGbcLhm_1UT9",
        "outputId": "1dd53d06-8c66-410f-f3df-85f8fa08be48"
      },
      "execution_count": 96,
      "outputs": [
        {
          "output_type": "stream",
          "name": "stdout",
          "text": [
            "56\n",
            "45\n",
            "23\n",
            "12\n",
            "6\n"
          ]
        }
      ]
    },
    {
      "cell_type": "markdown",
      "source": [
        "sort() function for other itrables"
      ],
      "metadata": {
        "id": "Eq6WDHjQ1YSJ"
      }
    },
    {
      "cell_type": "code",
      "source": [
        "age = (15,67,12,14,3,64)"
      ],
      "metadata": {
        "id": "_XkylFh21WoI"
      },
      "execution_count": 97,
      "outputs": []
    },
    {
      "cell_type": "code",
      "source": [
        "sorted(age)"
      ],
      "metadata": {
        "colab": {
          "base_uri": "https://localhost:8080/"
        },
        "id": "_YwjYAux1g53",
        "outputId": "512e61e9-967e-4ee6-ca80-10f85d2d9c6f"
      },
      "execution_count": 98,
      "outputs": [
        {
          "output_type": "execute_result",
          "data": {
            "text/plain": [
              "[3, 12, 14, 15, 64, 67]"
            ]
          },
          "metadata": {},
          "execution_count": 98
        }
      ]
    },
    {
      "cell_type": "code",
      "source": [
        "students = [(\"ashu\",\"m\",18),(\"sonu\",\"m\",20),(\"suhani\",\"f\",14)]"
      ],
      "metadata": {
        "id": "v22QihfP1jbJ"
      },
      "execution_count": 104,
      "outputs": []
    },
    {
      "cell_type": "code",
      "source": [
        "age = lambda grades: grades[2]"
      ],
      "metadata": {
        "id": "z9LWmpnz16k4"
      },
      "execution_count": 105,
      "outputs": []
    },
    {
      "cell_type": "code",
      "source": [
        "students.sort(key=age)"
      ],
      "metadata": {
        "id": "WVy_rnaE2BUM"
      },
      "execution_count": 106,
      "outputs": []
    },
    {
      "cell_type": "code",
      "source": [
        "for i in students:\n",
        "  print(i)"
      ],
      "metadata": {
        "colab": {
          "base_uri": "https://localhost:8080/"
        },
        "id": "FlgbxbHR2GYE",
        "outputId": "2b0d732b-1f7f-492f-83ca-458f829166c7"
      },
      "execution_count": 107,
      "outputs": [
        {
          "output_type": "stream",
          "name": "stdout",
          "text": [
            "('suhani', 'f', 14)\n",
            "('ashu', 'm', 18)\n",
            "('sonu', 'm', 20)\n"
          ]
        }
      ]
    },
    {
      "cell_type": "markdown",
      "source": [
        "map() function"
      ],
      "metadata": {
        "id": "hHcDot6T2muS"
      }
    },
    {
      "cell_type": "code",
      "source": [
        "store = [(\"shirts\",20.00),(\"jacket\",25.00),(\"tshirt\",10.00)]"
      ],
      "metadata": {
        "id": "x1RVyWX-2H7J"
      },
      "execution_count": 108,
      "outputs": []
    },
    {
      "cell_type": "code",
      "source": [
        "to_euro = lambda data: (data[0],data[1]*0.82)\n",
        "to_dollar = lambda data: (data[0],data[1]/0.82)\n",
        "\n",
        "store_dollar = list(map(to_dollar,store))\n",
        "\n",
        "store_euro = list(map(to_euro,store))\n",
        "\n",
        "for i in store_euro:\n",
        "  print(i)\n",
        "\n",
        "for i in store_dollar:\n",
        "  print(i)"
      ],
      "metadata": {
        "colab": {
          "base_uri": "https://localhost:8080/"
        },
        "id": "UvrrH6Am259W",
        "outputId": "d53a9514-f558-42ea-ea8d-50220cee4a60"
      },
      "execution_count": 110,
      "outputs": [
        {
          "output_type": "stream",
          "name": "stdout",
          "text": [
            "('shirts', 16.4)\n",
            "('jacket', 20.5)\n",
            "('tshirt', 8.2)\n",
            "('shirts', 24.390243902439025)\n",
            "('jacket', 30.48780487804878)\n",
            "('tshirt', 12.195121951219512)\n"
          ]
        }
      ]
    },
    {
      "cell_type": "markdown",
      "source": [
        "filter() function:"
      ],
      "metadata": {
        "id": "wYYq8C2R3dpa"
      }
    },
    {
      "cell_type": "code",
      "source": [
        "freinds = [(\"ashu\",18),(\"sonu\",20),(\"suhani\",14)]\n",
        "\n",
        "age = lambda data: data[1] >= 18\n",
        "drinking_buddies = list(filter(age,freinds))\n",
        "\n",
        "for i in drinking_buddies:\n",
        "  print(i)"
      ],
      "metadata": {
        "colab": {
          "base_uri": "https://localhost:8080/"
        },
        "id": "D-Mq2aF93N-j",
        "outputId": "ed0e782c-37ed-4c65-c572-68f924a98b60"
      },
      "execution_count": 111,
      "outputs": [
        {
          "output_type": "stream",
          "name": "stdout",
          "text": [
            "('ashu', 18)\n",
            "('sonu', 20)\n"
          ]
        }
      ]
    },
    {
      "cell_type": "markdown",
      "source": [
        "reduce() function"
      ],
      "metadata": {
        "id": "3jYZ6hRo4A_n"
      }
    },
    {
      "cell_type": "code",
      "source": [
        "import functools\n",
        "letters = [\"s\",\"h\",\"i\",\"r\",\"t\"]\n",
        "word = functools.reduce(lambda x,y: x+y,letters)\n",
        "print(word)"
      ],
      "metadata": {
        "colab": {
          "base_uri": "https://localhost:8080/"
        },
        "id": "z6JMWAmJ3sXi",
        "outputId": "de323b26-5a36-43f7-a311-89d30ae7bdc9"
      },
      "execution_count": 112,
      "outputs": [
        {
          "output_type": "stream",
          "name": "stdout",
          "text": [
            "shirt\n"
          ]
        }
      ]
    },
    {
      "cell_type": "code",
      "source": [
        "factorial = [5,4,3,2,1]\n",
        "result = functools.reduce(lambda x,y: x*y,factorial)\n",
        "print(result)"
      ],
      "metadata": {
        "colab": {
          "base_uri": "https://localhost:8080/"
        },
        "id": "LcdCOwLJ4Uls",
        "outputId": "91eb9ebe-e1bc-415f-d69d-20eb0eda4011"
      },
      "execution_count": 113,
      "outputs": [
        {
          "output_type": "stream",
          "name": "stdout",
          "text": [
            "120\n"
          ]
        }
      ]
    },
    {
      "cell_type": "markdown",
      "source": [
        "List Comprehension"
      ],
      "metadata": {
        "id": "FcpVhOiE5gwi"
      }
    },
    {
      "cell_type": "code",
      "source": [
        "squares = [x*x for x in range(1,11)]\n",
        "print(squares)"
      ],
      "metadata": {
        "colab": {
          "base_uri": "https://localhost:8080/"
        },
        "id": "1PuibwPe5RMW",
        "outputId": "9be2e443-8d11-4690-cde8-0d4612ecf773"
      },
      "execution_count": 114,
      "outputs": [
        {
          "output_type": "stream",
          "name": "stdout",
          "text": [
            "[1, 4, 9, 16, 25, 36, 49, 64, 81, 100]\n"
          ]
        }
      ]
    },
    {
      "cell_type": "code",
      "source": [
        "students = [100,90,80,70,60,50,40,30,0]\n",
        "passed_students = list(filter(lambda x: x >= 60,students))\n",
        "print(passed_students)"
      ],
      "metadata": {
        "colab": {
          "base_uri": "https://localhost:8080/"
        },
        "id": "gTrbGy7j5p7-",
        "outputId": "89c50347-f609-4a2d-abf5-815b85e6f752"
      },
      "execution_count": 115,
      "outputs": [
        {
          "output_type": "stream",
          "name": "stdout",
          "text": [
            "[100, 90, 80, 70, 60]\n"
          ]
        }
      ]
    },
    {
      "cell_type": "code",
      "source": [
        "students = [100,90,80,70,60,50,40,30,0]\n",
        "passed_students = [i for i in students if i >= 60]\n",
        "print(passed_students)\n"
      ],
      "metadata": {
        "colab": {
          "base_uri": "https://localhost:8080/"
        },
        "id": "_e8uFC9h6Cwh",
        "outputId": "e21e3523-4f90-4ed9-f946-d2077cd675e9"
      },
      "execution_count": 116,
      "outputs": [
        {
          "output_type": "stream",
          "name": "stdout",
          "text": [
            "[100, 90, 80, 70, 60]\n"
          ]
        }
      ]
    },
    {
      "cell_type": "markdown",
      "source": [
        "Dictionary comprihension"
      ],
      "metadata": {
        "id": "wfZeZEks6g9a"
      }
    },
    {
      "cell_type": "code",
      "source": [
        "cities_in_F = {\"New York\": 32, \"Boston\": 75, \"San Francisco\": 100, \"Austin\": 9}\n",
        "\n",
        "cities_in_C = {key: round((value-32)*(5/9)) for (key,value) in cities_in_F.items()}\n",
        "\n",
        "print(cities_in_C)"
      ],
      "metadata": {
        "colab": {
          "base_uri": "https://localhost:8080/"
        },
        "id": "pPstziUU6Gwe",
        "outputId": "2ac027b2-559e-43ac-d8b5-7da5706c1c3e"
      },
      "execution_count": 117,
      "outputs": [
        {
          "output_type": "stream",
          "name": "stdout",
          "text": [
            "{'New York': 0, 'Boston': 24, 'San Francisco': 38, 'Austin': -13}\n"
          ]
        }
      ]
    },
    {
      "cell_type": "code",
      "source": [
        "weather = {\"New York\": \"snowing\", \"Boston\": \"sunny\", \"San Francisco\": \"sunny\", \"Austin\": \"foggy\"}\n",
        "\n",
        "sunny_weather = {key: value for (key,value) in weather.items() if value == \"sunny\"}"
      ],
      "metadata": {
        "id": "jh8OEZlI66b-"
      },
      "execution_count": 118,
      "outputs": []
    },
    {
      "cell_type": "code",
      "source": [
        "print(sunny_weather)\n"
      ],
      "metadata": {
        "colab": {
          "base_uri": "https://localhost:8080/"
        },
        "id": "S_lNDGEh7NH2",
        "outputId": "a33f7a63-ae0f-4808-8a3e-c308072cccdb"
      },
      "execution_count": 119,
      "outputs": [
        {
          "output_type": "stream",
          "name": "stdout",
          "text": [
            "{'Boston': 'sunny', 'San Francisco': 'sunny'}\n"
          ]
        }
      ]
    },
    {
      "cell_type": "code",
      "source": [
        "cities = {\"New York\": 32, \"Boston\": 75, \"San Francisco\": 100, \"Austin\": 9}\n",
        "\n",
        "desc_cities = {key: (\"Warm\" if value >= 40 else \"Cold\") for (key,value) in cities.items()}\n",
        "print(desc_cities)"
      ],
      "metadata": {
        "colab": {
          "base_uri": "https://localhost:8080/"
        },
        "id": "CM1HQAxD7PmH",
        "outputId": "03e3f22d-0b1f-42a1-c5ed-0f39643849b6"
      },
      "execution_count": 120,
      "outputs": [
        {
          "output_type": "stream",
          "name": "stdout",
          "text": [
            "{'New York': 'Cold', 'Boston': 'Warm', 'San Francisco': 'Warm', 'Austin': 'Cold'}\n"
          ]
        }
      ]
    },
    {
      "cell_type": "markdown",
      "source": [
        "zip functions"
      ],
      "metadata": {
        "id": "kVVU2_JE8LSf"
      }
    },
    {
      "cell_type": "code",
      "source": [
        "usernames = [\"dude\",\"bro\",\"ninja\"]\n",
        "passwords = (\"p@ssword\",\"abc123\",\"guest\")\n",
        "\n",
        "users =zip(usernames,passwords)\n",
        "\n",
        "for i in users:\n",
        "  print(i)\n"
      ],
      "metadata": {
        "colab": {
          "base_uri": "https://localhost:8080/"
        },
        "id": "rZHhk0Xg7ieL",
        "outputId": "8e194b2a-091c-43c6-b08c-b1244d3877f1"
      },
      "execution_count": 122,
      "outputs": [
        {
          "output_type": "stream",
          "name": "stdout",
          "text": [
            "('dude', 'p@ssword')\n",
            "('bro', 'abc123')\n",
            "('ninja', 'guest')\n"
          ]
        }
      ]
    },
    {
      "cell_type": "code",
      "source": [
        "print(__name__)"
      ],
      "metadata": {
        "colab": {
          "base_uri": "https://localhost:8080/"
        },
        "id": "E_qQur5E8Vn8",
        "outputId": "70c07ebb-041e-45a2-8277-91d124664e98"
      },
      "execution_count": 123,
      "outputs": [
        {
          "output_type": "stream",
          "name": "stdout",
          "text": [
            "__main__\n"
          ]
        }
      ]
    },
    {
      "cell_type": "code",
      "source": [
        "def main():\n",
        "  print(\"hlo\")\n",
        "\n",
        "if __name__ == \"__main__\":\n",
        "  print(\"This is main\")\n",
        "else:\n",
        "  print(\"This is not main\")"
      ],
      "metadata": {
        "colab": {
          "base_uri": "https://localhost:8080/"
        },
        "id": "GiMgKa2M9R-0",
        "outputId": "8216e41f-399b-4353-c8e7-beac8eb24bc1"
      },
      "execution_count": 126,
      "outputs": [
        {
          "output_type": "stream",
          "name": "stdout",
          "text": [
            "This is main\n"
          ]
        }
      ]
    },
    {
      "cell_type": "code",
      "source": [
        "import time\n",
        "\n",
        "print(time.ctime(0))"
      ],
      "metadata": {
        "colab": {
          "base_uri": "https://localhost:8080/"
        },
        "id": "gOqd5E3q9iny",
        "outputId": "128ac218-5c45-4708-ce9c-4ef09de91c1c"
      },
      "execution_count": 127,
      "outputs": [
        {
          "output_type": "stream",
          "name": "stdout",
          "text": [
            "Thu Jan  1 00:00:00 1970\n"
          ]
        }
      ]
    },
    {
      "cell_type": "code",
      "source": [
        "print(time.ctime(10000))"
      ],
      "metadata": {
        "colab": {
          "base_uri": "https://localhost:8080/"
        },
        "id": "CtOsCNNg-GXo",
        "outputId": "a5c33c1d-096e-4200-c050-47b340520e93"
      },
      "execution_count": 128,
      "outputs": [
        {
          "output_type": "stream",
          "name": "stdout",
          "text": [
            "Thu Jan  1 02:46:40 1970\n"
          ]
        }
      ]
    },
    {
      "cell_type": "code",
      "source": [
        "print(time.time())"
      ],
      "metadata": {
        "colab": {
          "base_uri": "https://localhost:8080/"
        },
        "id": "9pa0wGbY-VYx",
        "outputId": "23d7e33c-40a3-49d1-a7f0-3caf98b4e704"
      },
      "execution_count": 131,
      "outputs": [
        {
          "output_type": "stream",
          "name": "stdout",
          "text": [
            "1731072757.726532\n"
          ]
        }
      ]
    },
    {
      "cell_type": "code",
      "source": [
        "time_object = time.localtime()"
      ],
      "metadata": {
        "id": "zIemHsVD-bw0"
      },
      "execution_count": 133,
      "outputs": []
    },
    {
      "cell_type": "code",
      "source": [
        "time.strftime(\"%B %d %Y %H:%M:%S\",time_object)"
      ],
      "metadata": {
        "colab": {
          "base_uri": "https://localhost:8080/",
          "height": 36
        },
        "id": "Y4CazcJ2-yP3",
        "outputId": "ee9748c1-c6e8-4354-824f-3d51409e6bad"
      },
      "execution_count": 136,
      "outputs": [
        {
          "output_type": "execute_result",
          "data": {
            "text/plain": [
              "'November 08 2024 13:34:16'"
            ],
            "application/vnd.google.colaboratory.intrinsic+json": {
              "type": "string"
            }
          },
          "metadata": {},
          "execution_count": 136
        }
      ]
    },
    {
      "cell_type": "code",
      "source": [
        "time_object = time.gmtime()\n",
        "time_string = \"20 April, 2022\"\n",
        "time_objct = time.mktime(time.strptime(time_string,\"%d %B, %Y\"))\n",
        "print(time_objct)\n"
      ],
      "metadata": {
        "colab": {
          "base_uri": "https://localhost:8080/"
        },
        "id": "xyRTUe9M-7p2",
        "outputId": "9d55d40d-fdbb-4e41-c1d4-578d1fd1f806"
      },
      "execution_count": 137,
      "outputs": [
        {
          "output_type": "stream",
          "name": "stdout",
          "text": [
            "1650412800.0\n"
          ]
        }
      ]
    },
    {
      "cell_type": "code",
      "source": [
        "time_tuple = (2022,4,20,16,29,30,0,0,0)\n",
        "time_string = time.asctime(time_tuple)\n",
        "print(time_string)"
      ],
      "metadata": {
        "colab": {
          "base_uri": "https://localhost:8080/"
        },
        "id": "fFsDXjPK_nKQ",
        "outputId": "c4d88465-6b7a-4ac9-d769-b7c75c28e480"
      },
      "execution_count": 138,
      "outputs": [
        {
          "output_type": "stream",
          "name": "stdout",
          "text": [
            "Mon Apr 20 16:29:30 2022\n"
          ]
        }
      ]
    },
    {
      "cell_type": "markdown",
      "source": [
        "Multi-threading"
      ],
      "metadata": {
        "id": "HjmxYkiRAH-D"
      }
    },
    {
      "cell_type": "code",
      "source": [
        "import threading\n",
        "import time\n",
        "\n",
        "def eat_breakfast():\n",
        "  time.sleep(3)\n",
        "  print(\"You eat breakfast\")\n",
        "\n",
        "def drink_coffee():\n",
        "  time.sleep(4)\n",
        "  print(\"You drank coffee\")\n",
        "\n",
        "def study():\n",
        "  time.sleep(5)\n",
        "  print(\"You finish studying\")\n",
        "\n",
        "x = threading.Thread(target=eat_breakfast, args=())\n",
        "x.start()\n",
        "\n",
        "y = threading.Thread(target=drink_coffee, args=())\n",
        "y.start()\n",
        "\n",
        "z = threading.Thread(target=study, args=())\n",
        "z.start()\n",
        "\n",
        "x.join()\n",
        "y.join()\n",
        "z.join()\n",
        "\n",
        "print(\"You finish your day\")\n",
        "\n",
        "\n"
      ],
      "metadata": {
        "colab": {
          "base_uri": "https://localhost:8080/"
        },
        "id": "AnpnsUdQ_9Rl",
        "outputId": "98b51b5a-ad7c-433c-dc45-bc9286285652"
      },
      "execution_count": 142,
      "outputs": [
        {
          "output_type": "stream",
          "name": "stdout",
          "text": [
            "You eat breakfast\n",
            "You drank coffee\n",
            "You finish studying\n",
            "You finish your day\n"
          ]
        }
      ]
    },
    {
      "cell_type": "code",
      "source": [
        "#deamon thread\n",
        "\n",
        "import threading\n",
        "import time\n",
        "\n",
        "\n",
        "def timer():\n",
        "  print()\n",
        "  count = 0\n",
        "  while True:\n",
        "    time.sleep(1)\n",
        "    count += 1\n",
        "    print(\"You have been waiting for {} seconds\".format(count))\n",
        "\n",
        "x = threading.Thread(target=timer, args=(),daemon=True)\n",
        "x.start()\n",
        "x.setDaemon(True)\n",
        "answer = input(\"Do you want to exit?\")\n"
      ],
      "metadata": {
        "colab": {
          "base_uri": "https://localhost:8080/"
        },
        "id": "UgnJtzeMAYia",
        "outputId": "79f4b4e7-4089-41a0-a911-7173473270c4"
      },
      "execution_count": 144,
      "outputs": [
        {
          "output_type": "stream",
          "name": "stdout",
          "text": [
            "\n",
            "You have been waiting for 42 seconds\n",
            "You have been waiting for 1 seconds\n",
            "You have been waiting for 43 seconds\n",
            "You have been waiting for 2 seconds\n",
            "You have been waiting for 44 seconds\n",
            "You have been waiting for 3 seconds\n",
            "You have been waiting for 45 seconds\n",
            "You have been waiting for 4 seconds\n",
            "You have been waiting for 46 seconds\n",
            "You have been waiting for 5 seconds\n",
            "You have been waiting for 47 seconds\n",
            "You have been waiting for 6 seconds\n",
            "You have been waiting for 48 seconds\n",
            "You have been waiting for 7 seconds\n",
            "You have been waiting for 49 seconds\n",
            "You have been waiting for 8 seconds\n",
            "You have been waiting for 50 seconds\n",
            "You have been waiting for 9 seconds\n",
            "You have been waiting for 51 seconds\n",
            "You have been waiting for 10 seconds\n",
            "You have been waiting for 52 seconds\n",
            "You have been waiting for 11 seconds\n",
            "You have been waiting for 53 seconds\n",
            "Do you want to konw your name?ok\n",
            "You have been waiting for 12 seconds\n",
            "You have been waiting for 54 seconds\n"
          ]
        }
      ]
    },
    {
      "cell_type": "markdown",
      "source": [
        "Multiprocessing:\n"
      ],
      "metadata": {
        "id": "S26MOkCGDlnn"
      }
    },
    {
      "cell_type": "code",
      "source": [
        "from typing import Counter\n",
        "from multiprocessing import Process,cpu_count\n",
        "import os\n",
        "import time\n",
        "\n",
        "def main():\n",
        "  a = Process(target=Counter)\n",
        "  b = Process(target=Counter)\n",
        "  a.start()\n",
        "  b.start()\n",
        "  a.join()\n",
        "  b.join()\n",
        "  print(\"Finished\")\n",
        "\n",
        "\n",
        "\n",
        "def count(num):\n",
        "\n",
        "  count = 0\n",
        "  while count < num:\n",
        "    count += 1\n",
        "    print(\"The count is {}\".format(count))\n",
        "\n",
        "\n",
        "if __name__ == \"__main__\":\n",
        "  main()\n",
        ""
      ],
      "metadata": {
        "colab": {
          "base_uri": "https://localhost:8080/"
        },
        "id": "QKBIJhWODIXe",
        "outputId": "0bf600db-5dfe-468f-f70e-4851230ec067"
      },
      "execution_count": 1,
      "outputs": [
        {
          "output_type": "stream",
          "name": "stdout",
          "text": [
            "Finished\n"
          ]
        }
      ]
    },
    {
      "cell_type": "code",
      "source": [],
      "metadata": {
        "id": "A-ZJN3IuzLqn"
      },
      "execution_count": null,
      "outputs": []
    }
  ]
}