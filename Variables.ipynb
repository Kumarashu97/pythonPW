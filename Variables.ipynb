{
  "nbformat": 4,
  "nbformat_minor": 0,
  "metadata": {
    "colab": {
      "provenance": [],
      "authorship_tag": "ABX9TyPETKZP5pAo0d+8VzMs1Hnn",
      "include_colab_link": true
    },
    "kernelspec": {
      "name": "python3",
      "display_name": "Python 3"
    },
    "language_info": {
      "name": "python"
    }
  },
  "cells": [
    {
      "cell_type": "markdown",
      "metadata": {
        "id": "view-in-github",
        "colab_type": "text"
      },
      "source": [
        "<a href=\"https://colab.research.google.com/github/Kumarashu97/pythonPW/blob/main/Variables.ipynb\" target=\"_parent\"><img src=\"https://colab.research.google.com/assets/colab-badge.svg\" alt=\"Open In Colab\"/></a>"
      ]
    },
    {
      "cell_type": "code",
      "execution_count": 1,
      "metadata": {
        "colab": {
          "base_uri": "https://localhost:8080/"
        },
        "id": "A-a8rN_rarzH",
        "outputId": "18614824-eb68-4bc1-c5d1-d58adc1ff68c"
      },
      "outputs": [
        {
          "output_type": "stream",
          "name": "stdout",
          "text": [
            "age : 32\n",
            "height : 6.1\n",
            "name : krish\n",
            "is_student : True\n"
          ]
        }
      ],
      "source": [
        "age = 32\n",
        "height = 6.1\n",
        "name = \"krish\"\n",
        "is_student = True\n",
        "\n",
        "print(\"age :\",age)\n",
        "print(\"height :\",height)\n",
        "print(\"name :\",name)\n",
        "print(\"is_student :\",is_student)\n",
        "\n",
        "# age : 32\n",
        "# height : 6.1\n",
        "# name : krish\n",
        "# is_student : True"
      ]
    },
    {
      "cell_type": "markdown",
      "source": [
        "Naming Convention:\n",
        "variables names should be descriptive\n",
        "they must start with letter or _ and contains letters,numbers\n",
        "\n",
        "variable names are case sensitive"
      ],
      "metadata": {
        "id": "Gnw_Nn0QbjIm"
      }
    },
    {
      "cell_type": "code",
      "source": [
        "## 2age = 30  invalid var.\n",
        "## first-name = \"ashu\" invalid var.\n",
        "## @name = \"krish\" invalid var\n",
        "\n",
        "\n"
      ],
      "metadata": {
        "id": "PiTkobi8bPHC"
      },
      "execution_count": 2,
      "outputs": []
    },
    {
      "cell_type": "code",
      "source": [
        "age = 25\n",
        "first_name = \"ashu\"\n",
        "name = \"krish\"\n",
        "height = 176.56\n",
        "print(age,first_name,name,height)"
      ],
      "metadata": {
        "colab": {
          "base_uri": "https://localhost:8080/"
        },
        "id": "VPBhLRiIcKYZ",
        "outputId": "8db9bd81-a766-44a9-be4e-f05aa6aed5d4"
      },
      "execution_count": 3,
      "outputs": [
        {
          "output_type": "stream",
          "name": "stdout",
          "text": [
            "25 ashu krish 176.56\n"
          ]
        }
      ]
    },
    {
      "cell_type": "code",
      "source": [
        "var = 10\n",
        "print(var,type(var))\n",
        "var = 10.5\n",
        "print(var,type(var))\n",
        "var = \"krish\"\n",
        "print(var,type(var))\n",
        "var = True\n",
        "print(var,type(var))"
      ],
      "metadata": {
        "colab": {
          "base_uri": "https://localhost:8080/"
        },
        "id": "fG7rCjPJKVBI",
        "outputId": "f256f3a7-c10b-4d97-f53a-a6d6648e3646"
      },
      "execution_count": 2,
      "outputs": [
        {
          "output_type": "stream",
          "name": "stdout",
          "text": [
            "10 <class 'int'>\n",
            "10.5 <class 'float'>\n",
            "krish <class 'str'>\n",
            "True <class 'bool'>\n"
          ]
        }
      ]
    },
    {
      "cell_type": "code",
      "source": [
        "age = input(\"age :\")\n",
        "print(age,type(age))"
      ],
      "metadata": {
        "colab": {
          "base_uri": "https://localhost:8080/"
        },
        "id": "P_5P8Ak1LDgl",
        "outputId": "241f9b89-56e0-46e5-e75d-1b4149aee6f8"
      },
      "execution_count": 3,
      "outputs": [
        {
          "output_type": "stream",
          "name": "stdout",
          "text": [
            "age :19\n",
            "19 <class 'str'>\n"
          ]
        }
      ]
    },
    {
      "cell_type": "code",
      "source": [
        "age = int(input(\"age :\"))\n",
        "print(age,type(age))"
      ],
      "metadata": {
        "colab": {
          "base_uri": "https://localhost:8080/"
        },
        "id": "OHO9SnHPLP8f",
        "outputId": "dc6f561b-0aea-4ab7-a150-86310335501a"
      },
      "execution_count": 5,
      "outputs": [
        {
          "output_type": "stream",
          "name": "stdout",
          "text": [
            "age :19\n",
            "19 <class 'int'>\n"
          ]
        }
      ]
    },
    {
      "cell_type": "markdown",
      "source": [
        "Calculator:"
      ],
      "metadata": {
        "id": "-hCVHtU7Le_-"
      }
    },
    {
      "cell_type": "code",
      "source": [
        "a = int(input(\"a :\"))\n",
        "b = int(input(\"b :\"))\n",
        "print(\"a + b =\",a+b)\n",
        "print(\"a - b =\",a-b)\n",
        "print(\"a * b =\",a*b)\n",
        "print(\"a / b =\",a/b)"
      ],
      "metadata": {
        "colab": {
          "base_uri": "https://localhost:8080/"
        },
        "id": "LyO_f3AeLbvT",
        "outputId": "4821f4e5-ae2c-4cf2-c435-0cf29bff0e63"
      },
      "execution_count": 6,
      "outputs": [
        {
          "output_type": "stream",
          "name": "stdout",
          "text": [
            "a :12\n",
            "b :12\n",
            "a + b = 24\n",
            "a - b = 0\n",
            "a * b = 144\n",
            "a / b = 1.0\n"
          ]
        }
      ]
    },
    {
      "cell_type": "code",
      "source": [],
      "metadata": {
        "id": "ZnS3nYnSLl8A"
      },
      "execution_count": null,
      "outputs": []
    }
  ]
}